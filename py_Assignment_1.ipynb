{
 "cells": [
  {
   "cell_type": "raw",
   "id": "d480ce44",
   "metadata": {},
   "source": [
    "1. In the below elements which of them are values or an expression? eg:- values can be integer or string and expressions will be mathematical operators.\n",
    "\n",
    "* \n",
    "'hello'\n",
    "-87.8\n",
    "- \n",
    "/ \n",
    "+\t\n",
    "6 \n"
   ]
  },
  {
   "cell_type": "code",
   "execution_count": null,
   "id": "c048a34c",
   "metadata": {},
   "outputs": [],
   "source": [
    "Values : 'hello'\n",
    "-87.8\n",
    "6\n",
    "\n",
    "Expressions : * - / +"
   ]
  },
  {
   "cell_type": "code",
   "execution_count": null,
   "id": "e7da2bf5",
   "metadata": {},
   "outputs": [],
   "source": [
    "2. What is the difference between string and variable?\n"
   ]
  },
  {
   "cell_type": "code",
   "execution_count": null,
   "id": "7092e4f9",
   "metadata": {},
   "outputs": [],
   "source": [
    "String : A sequence of characters enclosed in single / double quotes. \n",
    "Variable :  It is a container to hold a data value. Variable can hold a string value.  "
   ]
  },
  {
   "cell_type": "code",
   "execution_count": null,
   "id": "e8a75a42",
   "metadata": {},
   "outputs": [],
   "source": [
    "3. Describe three different data types"
   ]
  },
  {
   "cell_type": "code",
   "execution_count": null,
   "id": "dc022a5d",
   "metadata": {},
   "outputs": [],
   "source": [
    "Python has the following built-in data types by default and has few more also.\n",
    "Text Type:\tstr\n",
    "Numeric Types:\tint, float, complex\n",
    "Boolean Type:\tbool\n",
    "\n",
    "Str Type: As the name represents it hold the string data.\n",
    "Numeric Types:As the name represents it hold the int, float, complex data.\n",
    "Boolean Type: It holds bool data(True/False)"
   ]
  },
  {
   "cell_type": "code",
   "execution_count": null,
   "id": "c34cc049",
   "metadata": {},
   "outputs": [],
   "source": [
    "4. What is an expression made up of? What do all expressions do?"
   ]
  },
  {
   "cell_type": "code",
   "execution_count": null,
   "id": "38f7fb47",
   "metadata": {},
   "outputs": [],
   "source": [
    "Expression is made up of operators, variable and values as per the rules defined.\n",
    "Expression performs operations on variables and values. "
   ]
  },
  {
   "cell_type": "code",
   "execution_count": null,
   "id": "10589133",
   "metadata": {},
   "outputs": [],
   "source": [
    "5. This assignment statements, like spam = 10. What is the difference between an expression and a statement?"
   ]
  },
  {
   "cell_type": "code",
   "execution_count": null,
   "id": "81946040",
   "metadata": {},
   "outputs": [],
   "source": [
    "Expression always evaluate to a value, statement don't.\n",
    "Expression is a part of statement. "
   ]
  },
  {
   "cell_type": "code",
   "execution_count": null,
   "id": "185e3b88",
   "metadata": {},
   "outputs": [],
   "source": [
    "6. After running the following code, what does the variable bacon contain?\n",
    "bacon = 22\n",
    "bacon + 1"
   ]
  },
  {
   "cell_type": "code",
   "execution_count": 3,
   "id": "8227621b",
   "metadata": {},
   "outputs": [
    {
     "data": {
      "text/plain": [
       "23"
      ]
     },
     "execution_count": 3,
     "metadata": {},
     "output_type": "execute_result"
    }
   ],
   "source": [
    "bacon = 22\n",
    "bacon + 1"
   ]
  },
  {
   "cell_type": "code",
   "execution_count": 4,
   "id": "56a0a308",
   "metadata": {},
   "outputs": [
    {
     "data": {
      "text/plain": [
       "22"
      ]
     },
     "execution_count": 4,
     "metadata": {},
     "output_type": "execute_result"
    }
   ],
   "source": [
    "bacon"
   ]
  },
  {
   "cell_type": "code",
   "execution_count": null,
   "id": "5c4a4121",
   "metadata": {},
   "outputs": [],
   "source": [
    "7. What should the values of the following two terms be?\n",
    "'spam' + 'spamspam'\n",
    "'spam' * 3"
   ]
  },
  {
   "cell_type": "code",
   "execution_count": 5,
   "id": "274fb145",
   "metadata": {},
   "outputs": [
    {
     "data": {
      "text/plain": [
       "'spamspamspam'"
      ]
     },
     "execution_count": 5,
     "metadata": {},
     "output_type": "execute_result"
    }
   ],
   "source": [
    "'spam' + 'spamspam'"
   ]
  },
  {
   "cell_type": "code",
   "execution_count": 6,
   "id": "ee2280df",
   "metadata": {},
   "outputs": [
    {
     "data": {
      "text/plain": [
       "'spamspamspam'"
      ]
     },
     "execution_count": 6,
     "metadata": {},
     "output_type": "execute_result"
    }
   ],
   "source": [
    "'spam' * 3"
   ]
  },
  {
   "cell_type": "code",
   "execution_count": null,
   "id": "efa0614b",
   "metadata": {},
   "outputs": [],
   "source": [
    "8. Why is eggs a valid variable name while 100 is invalid?"
   ]
  },
  {
   "cell_type": "code",
   "execution_count": null,
   "id": "44ee609a",
   "metadata": {},
   "outputs": [],
   "source": [
    "A variable name cannot start with a number. Hence 100 is invalid variable name."
   ]
  },
  {
   "cell_type": "code",
   "execution_count": null,
   "id": "5a0b1e40",
   "metadata": {},
   "outputs": [],
   "source": [
    "9. What three functions can be used to get the integer, floating-point number, or string version of a value?"
   ]
  },
  {
   "cell_type": "code",
   "execution_count": null,
   "id": "fd59f512",
   "metadata": {},
   "outputs": [],
   "source": [
    "int(), float() and str()"
   ]
  },
  {
   "cell_type": "code",
   "execution_count": null,
   "id": "6ee9c0c2",
   "metadata": {},
   "outputs": [],
   "source": [
    "10. Why does this expression cause an error? How can you fix it?\n",
    "'I have eaten ' + 99 + ' burritos.'"
   ]
  },
  {
   "cell_type": "code",
   "execution_count": 7,
   "id": "b715f5c0",
   "metadata": {},
   "outputs": [
    {
     "ename": "TypeError",
     "evalue": "can only concatenate str (not \"int\") to str",
     "output_type": "error",
     "traceback": [
      "\u001b[1;31m---------------------------------------------------------------------------\u001b[0m",
      "\u001b[1;31mTypeError\u001b[0m                                 Traceback (most recent call last)",
      "\u001b[1;32m~\\AppData\\Local\\Temp/ipykernel_2596/1774935878.py\u001b[0m in \u001b[0;36m<module>\u001b[1;34m\u001b[0m\n\u001b[1;32m----> 1\u001b[1;33m \u001b[1;34m'I have eaten '\u001b[0m \u001b[1;33m+\u001b[0m \u001b[1;36m99\u001b[0m \u001b[1;33m+\u001b[0m \u001b[1;34m' burritos.'\u001b[0m\u001b[1;33m\u001b[0m\u001b[1;33m\u001b[0m\u001b[0m\n\u001b[0m",
      "\u001b[1;31mTypeError\u001b[0m: can only concatenate str (not \"int\") to str"
     ]
    }
   ],
   "source": [
    "'I have eaten ' + 99 + ' burritos.'"
   ]
  },
  {
   "cell_type": "code",
   "execution_count": null,
   "id": "6934632c",
   "metadata": {},
   "outputs": [],
   "source": [
    "Error due to 99 since 99 is number. To concatenate all strings in expression should be of string type. 99 should be coverted to string type to resoolve the issue."
   ]
  },
  {
   "cell_type": "code",
   "execution_count": 8,
   "id": "ee933d6d",
   "metadata": {},
   "outputs": [
    {
     "data": {
      "text/plain": [
       "'I have eaten 99 burritos.'"
      ]
     },
     "execution_count": 8,
     "metadata": {},
     "output_type": "execute_result"
    }
   ],
   "source": [
    "'I have eaten ' + str(99) + ' burritos.'"
   ]
  },
  {
   "cell_type": "code",
   "execution_count": null,
   "id": "b3412681",
   "metadata": {},
   "outputs": [],
   "source": []
  }
 ],
 "metadata": {
  "kernelspec": {
   "display_name": "Python 3 (ipykernel)",
   "language": "python",
   "name": "python3"
  },
  "language_info": {
   "codemirror_mode": {
    "name": "ipython",
    "version": 3
   },
   "file_extension": ".py",
   "mimetype": "text/x-python",
   "name": "python",
   "nbconvert_exporter": "python",
   "pygments_lexer": "ipython3",
   "version": "3.9.7"
  }
 },
 "nbformat": 4,
 "nbformat_minor": 5
}
